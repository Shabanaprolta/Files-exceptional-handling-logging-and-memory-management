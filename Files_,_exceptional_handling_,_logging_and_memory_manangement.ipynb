{
  "nbformat": 4,
  "nbformat_minor": 0,
  "metadata": {
    "colab": {
      "provenance": []
    },
    "kernelspec": {
      "name": "python3",
      "display_name": "Python 3"
    },
    "language_info": {
      "name": "python"
    }
  },
  "cells": [
    {
      "cell_type": "markdown",
      "source": [
        "# **Files,exceptional handling, logging and memory management Questions**"
      ],
      "metadata": {
        "id": "wxMZ7QVKX9xx"
      }
    },
    {
      "cell_type": "markdown",
      "source": [
        "# 1. What is the difference between interpreted and compiled languages?\n",
        "-> The main difference between compiled and interpreted languages is how they are processed:\n",
        "\n",
        "- Compiled languages -\n",
        "The source code is translated into machine code before the program is executed . This results in more efficient code that can be executed multiple times. Compiled languages are faster and more secure than interpreted languages. However, the overhead for translation is incurred only once.\n",
        "\n",
        "- Interpreted languages -\n",
        "The code is executed line by line , without being compiled into machine language first. Interpreted languages are more flexible for modifying and testing code on the fly. However , they are usually less efficient than compiled languages because they must be parsed , interpreted , and executed each time the program is run.\n",
        "\n",
        "\n",
        "\n",
        "# 2. What is exception handling in Python ?\n",
        "-> During the execution of a program , an exception occurs , which interrupts the normal flow of instructions. Python scripts must handle exceptions immediately , or they terminate and quit when an exception occurs. Exceptions are Python objects that represent errors.\n",
        "\n",
        "# 3. What is the purpose of the finally block in exception handling?\n",
        "-> The purpose of a finally block in exception handling is to ensure that important code is executed , regardless of wheather an exception is thrown . This is useful for:\n",
        "- Resource cleanup : Closing files, database connections , and other resources\n",
        "- Avoiding accidental bypass : Preventing cleanup code from being bypassed by a return , continue, or break\n",
        "- Ensuring cleanup code runs : Making sure that cleanup code is executed even if the catch statement is missing.\n",
        "\n",
        "\n",
        "\n",
        "# 4. What is logging in Python?\n",
        "-> Logging in Python pertains to the process of tracking events that occur during the execution of a program . It involves recording message about these events, which can be useful for debugging , monitoring , and troubleshooting software. The Python standard library provides a built- in logging module to favilitate this.\n",
        "\n",
        "# 5. What is the significance of the __del__ method in Python?\n",
        "-> The __del__ method, also known as a destructor, in Python is called when an object is garbage collected, after all references to it have been destroyed. Its primary significance lies in enabling resource cleanup.\n",
        "When an object holds external resources, the __del__ method provides a mechanism to release these resources when the object is no longer in use. This is crucial for preventing resource leaks and ensuring the stability of applications.\n",
        "\n",
        "# 6. What is the difference between import and from ... import in Python?\n",
        "-> The import and from ... import statement in Python serve the purpose of incorporating external code from modules into your current script , but they differ in how they make the imported elements accessible.\n",
        "- import module : This statement imports the entire module. To access any function , class , or variable within the module , you need to use the module name as a prefix.\n",
        "- from module import elememts : This statement imports specific elements ( functions , classes , or variables) directly into the current namespace . You can then use these elements without the module prefix.\n",
        "\n",
        "\n",
        "# 7. How can you handle multiple exceptions in Python?\n",
        "-> Here are the ways to handle multiple exceptions in Python :\n",
        "- Using multiple except blocks -\n",
        "The most straightforward method involves using separate except blocks for each exception type. This allows for specific handling of different errors.\n",
        "- Using a single except block with a tuple of exceptions -\n",
        "Multiple exceptions can be caught in a single except block by specifying them as a tuple. This is useful when the same handling logic applies to different error types.\n",
        "- Using exception hierarchies -\n",
        "Exceptions in Python are organized in a hierarchy . You can catch a base exception class to handle all its subclasses . For example , catching OS Error will handle both FileNotFoundError and PermissionError.\n",
        "\n",
        "# 8. What is the purpose of the with statement when handling files in Python?\n",
        "-> The with statement in Python serves to streamline resource management , particularly when working with files. Its primary purpose is to ensure that resources are properly acquired and released , even if errors occur during the process. For file handling , this means guaranteeing that files are closed after they have been used, preventing potential data corruption or resource leaks.\n",
        "When a file is opened using the with statement , a context manager is created . This context manager handles the setup and teardown operations associated with the file. Example-\n",
        "\n",
        "\n",
        "  code to work with the file\n",
        "\n",
        "  with open (\"filename.txt\", \"r\") as file:\n",
        "      data = file.read()\n",
        "\n",
        "  File is automatically closed here\n",
        "\n",
        "# 9. What is the difference between multithreading and multiprocessing ?\n",
        "\n",
        "-> The key difference between multithreading and multiprocessing is that multithreading allows multiple threads to run cocurrently within a single process , sharing the same memory space , while multiprocessing creates separate   processes , each with its own memory space , enabling true parallel execution across multiple CPU cores; essentially multithreading is about managing multiple tasks within a single process , while multiprocessing is about running multiple processes across different CPU cores.\n",
        "\n",
        "\n",
        "#10. What are the advantages of using logging in a program?\n",
        "-> Using logging in a program provides significant advantages for debugging issues, monitering application performance , understanding user behavior, improving security by identifying suspicious activity , and facilitating troubleshooting by providing a detailed record of events and system states , allowing developers to pinpoint the root cause of problems more efficiently.\n",
        "\n",
        "# 11. What is memory management in Python?\n",
        "-> Memory management in Python involves the allocation and deallocation of memory for objects. Unlike languages like C or C++. Python uses automatic memory management , relieving the programmer from manual memory control. This automatic approach relies on a combination of techniques :\n",
        "- Private Heap -\n",
        "Python utilizes a private heap , a dedicated memory area for storing objects and data structures .\n",
        "- Memory Pools-\n",
        "For small objects Python employs memory pools. These are pre-allocated chunks of memory divided into blocks . When a new object is created , Python checks for an available block in the appropriate pool. If none exists , new pool is created . This system reduces fragmentation and omproves allocation speed.\n",
        "\n",
        "# 12. What are the basic steps involved in exception handling?\n",
        "->The basic steps involved in exception handling are: identifying potential error situations (\"try\" block) , throwing an exception when an error occurs (\"throw\"), and catching the exception with a specific handler (\"catch\") to take appropriate action ; this typically involves using keywords like \"try\", \"catch\", and \"throw\" within your code to define the exception handling blocks.\n",
        "\n",
        "# 13. Why is memory management important in Python?\n",
        "-> Memory management is crucial in Python for several reasons:\n",
        "- Efficient Resource Utilization:\n",
        "  - Prevents memory leaks:\n",
        "  Proper memory management ensures that memory allocated to objects is freed when they are no longer in use. Failure to do so leads to memory leaks , where the program consumes more and more memory , potentially causing it to slow down or crash.\n",
        "  - Handle large data sets :\n",
        "  Efficient memory management is essential when working with large data sets , creating complex data structures, or running code on low - memory devices.\n",
        "- Automatic Memory Management :\n",
        "  - Reference counting :\n",
        "  Python uses reference counting as a primary method of garbage collection. Each object has a reference count that tracks the number of variables referencing it. When the reference count drops to zero , the object is deallocated.\n",
        "\n",
        "# 14. What is the role of try and except in exception handling?\n",
        "-> In Python, the try and except blocks are used to handle exceptions, or errors, that may occur in a program:\n",
        "- Try : The try block contains code that may raise an exception.\n",
        "- Except : The except block contains code that handles the exception that may occur in the try block.\n",
        "\n",
        "# 15. How does Python's garbage collection system work?\n",
        "-> Python's garbage collection (GC) is an automated process that manages memory by identifying and removing objects that are no longer in use :\n",
        "- Generational garbage collection :\n",
        "Uses an algorithm called mark- and- sweep to identify which objects are reachable and which are not. The GC implementation segregates all container objects into three generations. The GC only triggers a full collection of the oldest generation if the ratio of long - lived_pending to long_lived_total is above a given value.\n",
        "\n",
        "GC works to : Minimize memory leaks , Optimize application performance , Free up unused memory , and Reuse memory slots for new objects.\n",
        "\n",
        "# 16. What is the purpose of the else block in exception handling?\n",
        "-> In exception handling, the \"else\" block is used to execute a specific set of code only if no exceptions are raised within the \"try\" block ; essentially , it allows you to perform additional operations when the code within the \"try\" block executes successfully  without encountering any errors.\n",
        "\n",
        "# 17. What are the common logging levels in Python?\n",
        "-> Python's logging module provides a flexible framework for emitting log messages from Python programs. These log messages are categorized into different levels , indicating the severity of the event being logged. Here are the common logging levels in Python, ordered from least to most severe:\n",
        "- DEBUG(10): Detailed information, typically of interest only to developers when diagnosing problems.\n",
        "- INFO(20): Conformation that things are working as expected . This level is used for informational messages that provide a general overview of the program's operation.\n",
        "- WARNING(30) : An indication that something unexpected happened , or might happen in the near future.\n",
        "- ERROR(40): A more serious problem that has prevented the software from performing some function. This level indicates that an error hasoccured, but the program can continue to run.\n",
        "- CRITICAL(50): A severe error indicating that the program itself may be unable to continue running. This level indicates a critical issue that may cause the program to terinate.  \n",
        "- NOTSET(0): This level acts as a fallback and means that all messages will be logged, regardess of their severity.\n",
        "\n",
        "# 18. What is the difference between os.fork () and multiprocessing in Python?\n",
        "-> The os.fork () system call creates a new process that is a copy of the existing process. This means that the child process inherits all the resources of the parent process, including memory , file descriptors , and signal handlers. The os.fork() call returns twice: once in the parent process , where it returns the process ID of the child process , and once in the child process, where it returns 0.\n",
        "The multiprocessing module provides a higher - level interface for creating and manageing processes. It uses different start methods , including \"fork,\" \"spawn,\" and \"forkserver,\" to create new processes.\n",
        "- The \"fork\" start method is similar to os.fork()in that it creates a copy of the current process.\n",
        "- The \"spawn\" start method starts a fresh Python interpreter process and runs the target function in that process. It does not inherit most of the parent's resources.\n",
        "- The \"forkserver\" start method starts a server process that creates new processes on demand.\n",
        "\n",
        "# 19. What is the importance of closing a file in Python?\n",
        "-> Closing a file after use is important because it frees up system resources that are being used by the file. When a file is open , the operating systems allocates memory and other resources to the file , which can potentially impact the performance of the system if too many files are open at the same time and the files are limited resources managed by the opertating system, making sure files are closed after use will protect against hard- to - debug issues like running out of file handles or experiencing corrupted data.\n",
        "\n",
        "# 20. What is the difference between file.read() and file.readline () in Python?\n",
        "-> The primary difference between file.read() and file.readlines() in Python lies in how they read and return the content of a file.\n",
        " - file.read() : This method reads the entire content of the file as a single string. If a size arguement is provided (e.g., file.read(size)), it reads up to that many characters. If no arguement is provided , it reads the entire file content.\n",
        " - file.readlines() : This method reads all lines from the file and returns them as a list of strings. Each element in the list represents a line from the file, including the newline character (\\n) at the end of each line.\n",
        "- Memory consideration:\n",
        "Both methods can be memory - intensive when dealing with large files, as they load the entire file content into memory. For very large files, consider using methods like file.readline () (reads one line at a time) or iterating over the file object directly (which reads the file line by line in a memory - efficient way).\n",
        "\n",
        "\n",
        "# 21. What is the logging module in Python used for?\n",
        "-> The \"logging\" module in Python is used to sysyematically record events that occur within a program , alllowing developers to track information like errors , warnings , and debugging messages, which is crucial for troubleshooting and monitering the application's behaviour during execution; essentially, it provides a structured way to log important information about your program's activities.\n",
        "\n",
        "# 22. What is the os module in Python used for in file handling ?\n",
        "->  The os module is used in file handling:\n",
        "- Creating directories :\n",
        "The os.mkdir() function creates a new directory.\n",
        "- Deleting directiories or files:\n",
        "os.remove () function deletes a file, and os.rmdir() deletes an empty directory. To delete a directory with contents , shutil.rmtree() can be used.\n",
        "- Renaming files or directories :\n",
        "The os.rename () function renames a file or directory.\n",
        "- Checking existance :\n",
        "os.path.exists () checks if a file or directory exists.\n",
        "\n",
        "# 23. What are the challanges associated with memory management in Python?\n",
        "-> Here are some of the challanges associated with memory management in Python:\n",
        "- Garbage Collection Overload:\n",
        "Python uses automatic garbage collection to reclaim memory occupied by objects that are no. longer in use. While this simplifies development, the garbage collection process can introduce overhead , potentially leading to pauses and performance fluctuations , especially in applications with high memory  allocation rates.\n",
        "- Memory Leaks : Despite automatic garbage collection , memory leaks can still occur in Python . This can happen due to unreleased external resources , extension modules with memory management issues, or subtle errors in code logic that prevent objects from being properly deallocated.\n",
        "- Memory Profiling :\n",
        "Analyzing and optimizing memory usage in Python requires the use of memory profiling tools to identify memory leaks, excessive memory consumption , and inefficient memory usage patterns.\n",
        "\n",
        "# 24. How do you raise an exception manually in Python?\n",
        "-> In Python , exceptions can  be raised manually using the raise statement. This allows a programmer to force a specific exception to occur , which can be useful for handling error condiotions or testing exception handling logic.\n",
        "To raise a built- in exception, specify the exception class after the raise keyword. For example , to raise a Type Error , use the following code:\n",
        "\n",
        "raise TypeError (\"This is a TypeError exception\" )\n",
        "\n",
        "This will raise a Type Error with the specified error message. raise a custom exception.\n",
        "\n",
        "# 25. Why is it important to use multithreading in certain applications?\n",
        "-> Multithreading is important in certain applications because it allows for the cocurrent execution of multiple tasks within a single program, significantly improving performance and responsiveness by utilizing multiple CPU cores and preventing the application from becoming unresponsive while waiting for I/O operations to complete, making it particularly valueable for applications with user interfaces or high - volume processing needs like web serves and media players."
      ],
      "metadata": {
        "id": "99zxQ2ecYb2Y"
      }
    },
    {
      "cell_type": "markdown",
      "source": [
        "# **Practical Questions**"
      ],
      "metadata": {
        "id": "HvPEC-T3e_n5"
      }
    },
    {
      "cell_type": "code",
      "source": [
        "# 1 How can you open a file for writing in Python and write a string to it?\n",
        "\n",
        "with open (\"my_file.txt\", \"w\") as file:\n",
        "    file.write (\"Hello, this is a string written to a file!\")\n",
        "    print(\"String written to file successfully.\")\n"
      ],
      "metadata": {
        "id": "kTIhFFiCfJGK",
        "colab": {
          "base_uri": "https://localhost:8080/"
        },
        "outputId": "b0c63338-8795-4422-d34f-3feb1edcaf06"
      },
      "execution_count": null,
      "outputs": [
        {
          "output_type": "stream",
          "name": "stdout",
          "text": [
            "String written to file successfully.\n"
          ]
        }
      ]
    },
    {
      "cell_type": "code",
      "source": [
        "# 2 Write a Python program to read the contents of a file and print each line.\n",
        "with open(\"example.txt\", \"w\") as file:\n",
        "        file.write(\"This is a sample string\\n\")\n",
        "        file.write(\"This is another line\\n\")\n",
        "        file.write(\"This is the last line.\")\n",
        "with open(\"example.txt\", \"r\") as file:\n",
        "    for line in file:\n",
        "        print(line.strip())"
      ],
      "metadata": {
        "id": "TFa8JzuufJVR",
        "colab": {
          "base_uri": "https://localhost:8080/"
        },
        "outputId": "a0af07f6-d45b-4d60-cb31-d2050a83874b"
      },
      "execution_count": null,
      "outputs": [
        {
          "output_type": "stream",
          "name": "stdout",
          "text": [
            "This is a sample string\n",
            "This is another line\n",
            "This is the last line.\n"
          ]
        }
      ]
    },
    {
      "cell_type": "code",
      "source": [
        "# 3 How would you handle a case where the file doesn't exist while trying to open it for reading?\n",
        "try:\n",
        "    with open(\"nonexistent_file.txt\", \"r\") as file:\n",
        "        content = file.read()\n",
        "        print(content)\n",
        "except FileNotFoundError:\n",
        "    print(\"The file does not exist.\")"
      ],
      "metadata": {
        "id": "9IWP67aNfJag",
        "colab": {
          "base_uri": "https://localhost:8080/"
        },
        "outputId": "bc502dff-5595-433c-a10e-5cd7bda1abcd"
      },
      "execution_count": null,
      "outputs": [
        {
          "output_type": "stream",
          "name": "stdout",
          "text": [
            "The file does not exist.\n"
          ]
        }
      ]
    },
    {
      "cell_type": "code",
      "source": [
        "# 4 write a Python script that reads from one file and writes its content to another file.\n",
        "with open(\"example.txt\", \"r\") as example_file:\n",
        "    content = example_file.read()\n",
        "\n",
        "with open(\"destination.txt\", \"w\") as destination_file:\n",
        "    destination_file.write(content)\n",
        "    print(content)"
      ],
      "metadata": {
        "id": "Ry7DbE4ffJf-",
        "colab": {
          "base_uri": "https://localhost:8080/"
        },
        "outputId": "5db0f88d-8475-452f-f12b-16f2d999544f"
      },
      "execution_count": null,
      "outputs": [
        {
          "output_type": "stream",
          "name": "stdout",
          "text": [
            "This is a sample string\n",
            "This is another line\n",
            "This is the last line.\n"
          ]
        }
      ]
    },
    {
      "cell_type": "code",
      "source": [
        "# 5 How would you catch and handle division by zero error on Python?\n",
        "try:\n",
        "    result = 10 / 0\n",
        "except ZeroDivisionError:\n",
        "    print(\"Error: Division by zero\")"
      ],
      "metadata": {
        "id": "kxypRRcffJj6",
        "colab": {
          "base_uri": "https://localhost:8080/"
        },
        "outputId": "ef254db1-f230-45a9-ad8d-4302a3207dce"
      },
      "execution_count": null,
      "outputs": [
        {
          "output_type": "stream",
          "name": "stdout",
          "text": [
            "Error: Division by zero\n"
          ]
        }
      ]
    },
    {
      "cell_type": "code",
      "source": [
        "# 6 Write a Python program that logs an error message to a log file when a division by zero exception occurs\n",
        "import logging\n",
        "logging.basicConfig(filename = \"error_log.txt\", level = logging.ERROR)\n",
        "try:\n",
        "    result = 10 / 0\n",
        "except ZeroDivisionError:\n",
        "    logging.error(\"Error: Division by zero\")"
      ],
      "metadata": {
        "id": "PtcTm9wffJnS",
        "colab": {
          "base_uri": "https://localhost:8080/"
        },
        "outputId": "d80600ec-8aa7-49b5-c362-c37ccb98a455"
      },
      "execution_count": null,
      "outputs": [
        {
          "output_type": "stream",
          "name": "stderr",
          "text": [
            "ERROR:root:Error: Division by zero\n"
          ]
        }
      ]
    },
    {
      "cell_type": "code",
      "source": [
        "# 7 How do you log information at different levels (INFO, ERROR, WARNING) in Python using the logging module?\n",
        "import logging\n",
        "logging.basicConfig(level=logging.INFO)\n",
        "logging.info(\"This is an info message\")\n",
        "logging.warning(\"This is a warning message\")\n",
        "logging.error(\"This is an error message\")"
      ],
      "metadata": {
        "colab": {
          "base_uri": "https://localhost:8080/"
        },
        "id": "56vo9bbbQ1E-",
        "outputId": "03e4e944-599a-4c65-cac6-5b385a1bb5f4"
      },
      "execution_count": null,
      "outputs": [
        {
          "output_type": "stream",
          "name": "stderr",
          "text": [
            "WARNING:root:This is a warning message\n",
            "ERROR:root:This is an error message\n"
          ]
        }
      ]
    },
    {
      "cell_type": "code",
      "source": [
        "# 8 Write a program to handle a file opening error using exception handling.\n",
        "try:\n",
        "    with open(\"nonexistent_file.txt\", \"r\") as file:\n",
        "        content = file.read()\n",
        "        print(content)\n",
        "except FileNotFoundError:\n",
        "    print(\"The file does not exist.\")"
      ],
      "metadata": {
        "id": "PreoL2aafJu4",
        "colab": {
          "base_uri": "https://localhost:8080/"
        },
        "outputId": "d14d110d-d5b7-4419-8213-8731edc69fe7"
      },
      "execution_count": null,
      "outputs": [
        {
          "output_type": "stream",
          "name": "stdout",
          "text": [
            "The file does not exist.\n"
          ]
        }
      ]
    },
    {
      "cell_type": "code",
      "source": [
        "# 9 How can you read a file line by line and store its content in a list in Python?\n",
        "lines = [ ]\n",
        "with open(\"example.txt\", \"r\") as file:\n",
        "  lines = file.readlines()\n",
        "print(lines)"
      ],
      "metadata": {
        "id": "dGQ-63X1fJyA",
        "colab": {
          "base_uri": "https://localhost:8080/"
        },
        "outputId": "26f8b563-3649-4961-ecd4-929ea90de22d"
      },
      "execution_count": null,
      "outputs": [
        {
          "output_type": "stream",
          "name": "stdout",
          "text": [
            "['This is a sample string\\n', 'This is another line\\n', 'This is the last line.']\n"
          ]
        }
      ]
    },
    {
      "cell_type": "code",
      "source": [
        "# 10 How can you append data to an existing file in python?\n",
        "with open(\"my_file.txt\", \"a\") as file:\n",
        "    file.write(\"\\nThis is a new line appended to the file.\")\n",
        "    print(\"Data appended to the file successfully.\")"
      ],
      "metadata": {
        "id": "QrR_qA_kfJ2T",
        "colab": {
          "base_uri": "https://localhost:8080/"
        },
        "outputId": "03727fd0-9f39-48a7-d3cd-fc00baabd35f"
      },
      "execution_count": null,
      "outputs": [
        {
          "output_type": "stream",
          "name": "stdout",
          "text": [
            "Data appended to the file successfully.\n"
          ]
        }
      ]
    },
    {
      "cell_type": "code",
      "source": [
        "# 11 Write a Python program that uses a try-ecxept block to handle an error when attempting to access a dictionary key that doesn't exist.\n",
        "my_dict = {\"a\": 1, \"b\": 2, \"c\": 3}\n",
        "\n",
        "try:\n",
        "    value = my_dict[\"d\"]\n",
        "except KeyError:\n",
        "    print(\"Error: Key not found in the dictionary.\")"
      ],
      "metadata": {
        "id": "6kuG2cDUfJ49",
        "colab": {
          "base_uri": "https://localhost:8080/"
        },
        "outputId": "5d8eda46-7c2a-4db0-b9d9-3850e0f90510"
      },
      "execution_count": null,
      "outputs": [
        {
          "output_type": "stream",
          "name": "stdout",
          "text": [
            "Error: Key not found in the dictionary.\n"
          ]
        }
      ]
    },
    {
      "cell_type": "code",
      "source": [
        "# 12 Write a program that demonstrate using multiple except blocks to handle different types of execepions.\n",
        "try:\n",
        "    result = 10 / 0\n",
        "except ZeroDivisionError:\n",
        "    print(\"Error: Division by zero\")\n",
        "except TypeError:\n",
        "    print(\"Error: Type mismatch\")\n",
        "except Exception as e:\n",
        "    print(f\"An unexpected error occurred: {e}\")"
      ],
      "metadata": {
        "id": "3UCYIFaCfJ8r",
        "colab": {
          "base_uri": "https://localhost:8080/"
        },
        "outputId": "3a21ede1-8a4c-403c-e0ea-88b2755395cb"
      },
      "execution_count": null,
      "outputs": [
        {
          "output_type": "stream",
          "name": "stdout",
          "text": [
            "Error: Division by zero\n"
          ]
        }
      ]
    },
    {
      "cell_type": "code",
      "source": [
        "# 13 How would you check if a file exists before attempting to read it in Python?\n",
        "import os\n",
        "if os.path.exists(\"my_file.txt\"):\n",
        "    with open(\"my_file.txt\", \"r\") as file:\n",
        "        content = file.read()\n",
        "        print(content)\n",
        "else:\n",
        "    print(\"The file does not exist.\")"
      ],
      "metadata": {
        "id": "oPpXlBO5fJ_R",
        "colab": {
          "base_uri": "https://localhost:8080/"
        },
        "outputId": "45ca0a3f-a59d-4694-dcff-dacf7ec40869"
      },
      "execution_count": null,
      "outputs": [
        {
          "output_type": "stream",
          "name": "stdout",
          "text": [
            "Hello, this is a string written to a file!\n"
          ]
        }
      ]
    },
    {
      "cell_type": "code",
      "source": [
        "# 14 Write a program that uses the logging module to log both informational and error messages.\n",
        "import logging\n",
        "logging.basicConfig(filename= \"app.log\", level=logging.INFO)\n",
        "logging.info(\"Application started.\")\n",
        "try:\n",
        "    result = 10 / 0\n",
        "except ZeroDivisionError as e :\n",
        "    logging.error(f\"An error occurred : {e}\")\n",
        "\n"
      ],
      "metadata": {
        "colab": {
          "base_uri": "https://localhost:8080/"
        },
        "id": "ISwZFfx6VNIl",
        "outputId": "ea991d68-3e6b-4739-d029-47d56a414058"
      },
      "execution_count": null,
      "outputs": [
        {
          "output_type": "stream",
          "name": "stderr",
          "text": [
            "ERROR:root:An error occurred : division by zero\n"
          ]
        }
      ]
    },
    {
      "cell_type": "code",
      "source": [
        "# 15 Write a Python program that prints the content of a file and handles the case when the file is empty.\n",
        "with open(\"my_file.txt\", \"r\") as file:\n",
        "    content = file.read()\n",
        "    if content:\n",
        "        print(content)\n",
        "    else:\n",
        "        print(\"The file is empty.\")"
      ],
      "metadata": {
        "id": "CqkdZ4_NfKGI",
        "colab": {
          "base_uri": "https://localhost:8080/"
        },
        "outputId": "f148499d-2f16-4777-982c-2f3e507d3326"
      },
      "execution_count": null,
      "outputs": [
        {
          "output_type": "stream",
          "name": "stdout",
          "text": [
            "Hello, this is a string written to a file!\n"
          ]
        }
      ]
    },
    {
      "cell_type": "code",
      "source": [
        "# 16 Demonstrate how to use memory profiling to check the memory usage of a small program.\n",
        "!pip install memory_profiler\n",
        "\n",
        "from memory_profiler import memory_usage\n",
        "def test_function():\n",
        "    a= [i for i in range(10000)]\n",
        "    return a\n",
        "if __name__ == \"__main__\":\n",
        "    mem_usage= memory_usage(test_function)\n",
        "    print(f\"Memory usage :  {max(mem_usage)- min(mem_usage)} MiB\")\n",
        "\n",
        "\n",
        "\n",
        "\n"
      ],
      "metadata": {
        "id": "6zTZ1SByfKI7",
        "colab": {
          "base_uri": "https://localhost:8080/"
        },
        "outputId": "0ed71e64-91c9-446b-8e02-3fcc683938ac"
      },
      "execution_count": 1,
      "outputs": [
        {
          "output_type": "stream",
          "name": "stdout",
          "text": [
            "Collecting memory_profiler\n",
            "  Downloading memory_profiler-0.61.0-py3-none-any.whl.metadata (20 kB)\n",
            "Requirement already satisfied: psutil in /usr/local/lib/python3.10/dist-packages (from memory_profiler) (5.9.5)\n",
            "Downloading memory_profiler-0.61.0-py3-none-any.whl (31 kB)\n",
            "Installing collected packages: memory_profiler\n",
            "Successfully installed memory_profiler-0.61.0\n",
            "Memory usage :  0.05078125 MiB\n"
          ]
        }
      ]
    },
    {
      "cell_type": "code",
      "source": [
        "# 17 Write a Python program to create and write a list of numbers to a file , one number per line\n",
        "with open(\"numbers.txt\", \"w\") as file:\n",
        "    numbers = [1, 2, 3, 4, 5]\n",
        "    for number in numbers:\n",
        "        file.write(f\"{number}\\n\")\n",
        "        print(\"Numbers written to file successfully.\")\n",
        "\n"
      ],
      "metadata": {
        "id": "ulqfMsMvfKOX",
        "colab": {
          "base_uri": "https://localhost:8080/"
        },
        "outputId": "9379a6eb-b4b3-4f67-b847-9c5021305f32"
      },
      "execution_count": null,
      "outputs": [
        {
          "output_type": "stream",
          "name": "stdout",
          "text": [
            "Numbers written to file successfully.\n",
            "Numbers written to file successfully.\n",
            "Numbers written to file successfully.\n",
            "Numbers written to file successfully.\n",
            "Numbers written to file successfully.\n"
          ]
        }
      ]
    },
    {
      "cell_type": "code",
      "source": [
        "# 18 How would you implement a basic logging setup that logs to a file with rotation after 1 MB?\n",
        "import logging\n",
        "from logging.handlers import RotatingFileHandler\n",
        "logger = logging.getLogger(\"my_logger\")\n",
        "logger.setLevel(logging.DEBUG)\n",
        "handler = RotatingFileHandler(\"app.log\", maxBytes = 1024 * 1024, backupCount = 5)\n",
        "formatter = logging.Formatter(\"%(asctime)s - %(levelname)s - %(message)s\")\n",
        "handler.setFormatter(formatter)\n",
        "logger.addHandler(handler)\n",
        "logger.debug(\"This is a debug message\")\n"
      ],
      "metadata": {
        "colab": {
          "base_uri": "https://localhost:8080/"
        },
        "id": "SvVXl-kvndlb",
        "outputId": "91fb291c-cb97-41ac-d7a7-16b3921dcdf8"
      },
      "execution_count": 3,
      "outputs": [
        {
          "output_type": "stream",
          "name": "stderr",
          "text": [
            "DEBUG:my_logger:This is a debug message\n"
          ]
        }
      ]
    },
    {
      "cell_type": "code",
      "source": [
        "# 19 Write a program that handles both indexError and using a try - except block.\n",
        "my_list = [1,2,3]\n",
        "my_dict = {\"key1\": \"value1\", \"key2\": \"value2\"}\n",
        "try:\n",
        "    value = my_list[4]\n",
        "    value = my_dict[\"key3\"]\n",
        "except IndexError:\n",
        "    print(\"Error: Index out of range\")\n",
        "except KeyError:\n",
        "    print(\"Error: Key not found in the dictionary\")"
      ],
      "metadata": {
        "id": "Kf_BucRWfKVc",
        "colab": {
          "base_uri": "https://localhost:8080/"
        },
        "outputId": "0e0ecba4-9a09-4d61-d9ab-32ffd6a5fb10"
      },
      "execution_count": null,
      "outputs": [
        {
          "output_type": "stream",
          "name": "stdout",
          "text": [
            "Error: Index out of range\n"
          ]
        }
      ]
    },
    {
      "cell_type": "code",
      "source": [
        "# 20 How would you open a file and read its contents using a context manager in Python?\n",
        "with open(\"example.txt\", \"r\") as file:\n",
        "    content = file.read()\n",
        "    print(content)"
      ],
      "metadata": {
        "id": "kIxMkML7fKY6",
        "colab": {
          "base_uri": "https://localhost:8080/"
        },
        "outputId": "e4d7d7cd-6760-408c-c627-2cc5a829c260"
      },
      "execution_count": null,
      "outputs": [
        {
          "output_type": "stream",
          "name": "stdout",
          "text": [
            "This is a sample string\n",
            "This is another line\n",
            "This is the last line.\n"
          ]
        }
      ]
    },
    {
      "cell_type": "code",
      "source": [
        "# 21 Write a Python program that reads a file and prints the number of occurrences of a specific word.\n",
        "def count_word_occurrences(file_path, word):\n",
        "    try:\n",
        "        with open(file_path, \"r\") as file:\n",
        "            content = file.read()\n",
        "            word_count = content.lower().split().count(word.lower())\n",
        "            print(f\"The word '{word}' occurs {word_count} times in the file.\")\n",
        "    except FileNotFoundError:\n",
        "        print(f\"File '{file_path}' not found.\")\n",
        "# Example usage\n",
        "count_word_occurrences(\"example.txt\", \"Python\")"
      ],
      "metadata": {
        "id": "xHBwKUwlfKb8",
        "colab": {
          "base_uri": "https://localhost:8080/"
        },
        "outputId": "e4b2e413-f0b1-4980-a8fb-729251aae6f9"
      },
      "execution_count": null,
      "outputs": [
        {
          "output_type": "stream",
          "name": "stdout",
          "text": [
            "The word 'Python' occurs 0 times in the file.\n"
          ]
        }
      ]
    },
    {
      "cell_type": "code",
      "source": [
        "# 22 How can you check if a file is empty before attempting to read its contents?\n",
        "import os\n",
        "def is_file_empty(file_path):\n",
        "  try:\n",
        "       if os.path.getsize(file_path) == 0:\n",
        "           print(\"The file is empty.\")\n",
        "           return True\n",
        "       else:\n",
        "           print(\"The file is not empty.\")\n",
        "           return False\n",
        "  except FileNotFoundError:\n",
        "       print(f\"File '{file_path}' not found.\")\n",
        "       return True\n",
        "# Exampleusage\n",
        "if is_file_empty(\"empty_file.txt\"):\n",
        "    pass"
      ],
      "metadata": {
        "colab": {
          "base_uri": "https://localhost:8080/"
        },
        "id": "-tCWkGodIgOH",
        "outputId": "c50f8f17-868a-4274-d906-1d5035082c07"
      },
      "execution_count": null,
      "outputs": [
        {
          "output_type": "stream",
          "name": "stdout",
          "text": [
            "File 'empty_file.txt' not found.\n"
          ]
        }
      ]
    },
    {
      "cell_type": "code",
      "source": [
        "# 23 Write a python program that writes to a log file when an error occurs during file handling\n",
        "import logging\n",
        "logging.basicConfig(filename = \"file_errors.log\", level = logging.ERROR)\n",
        "\n",
        "def read_file_contents(file_path):\n",
        "    try:\n",
        "        with open(file_path, \"r\") as file:\n",
        "            content = file.read()\n",
        "            print (content)\n",
        "    except FileNotFoundError:\n",
        "        logging.error(f\"File '{file_path}' not found.\")\n",
        "        print(\"An error occurred while reading the file.\")\n",
        "# Example usage\n",
        "read_file_contents(\"nonexistent_file.txt\")"
      ],
      "metadata": {
        "id": "HUEBGo_5fKfU",
        "colab": {
          "base_uri": "https://localhost:8080/"
        },
        "outputId": "2ae2079e-3562-4bac-8d91-33c1ed239450"
      },
      "execution_count": null,
      "outputs": [
        {
          "output_type": "stream",
          "name": "stderr",
          "text": [
            "ERROR:root:File 'nonexistent_file.txt' not found.\n"
          ]
        },
        {
          "output_type": "stream",
          "name": "stdout",
          "text": [
            "An error occurred while reading the file.\n"
          ]
        }
      ]
    }
  ]
}